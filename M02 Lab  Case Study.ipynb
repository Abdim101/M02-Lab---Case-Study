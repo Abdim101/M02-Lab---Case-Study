{
 "cells": [
  {
   "cell_type": "code",
   "execution_count": 1,
   "id": "8ef9d8d6",
   "metadata": {},
   "outputs": [
    {
     "name": "stdout",
     "output_type": "stream",
     "text": [
      "Enter student last name:James\n",
      "Enter student first name:Micheal \n",
      "Enter student gpa:3.6\n",
      "has made the Dean's List.\n",
      "\n",
      "Enter student last name:Rose\n",
      "Enter student first name:Derrick\n",
      "Enter student gpa:3.4\n",
      "has made the Honor Role\n",
      "\n",
      "Enter student last name:Durant\n",
      "Enter student first name:Kevin\n",
      "Enter student gpa:3.5\n",
      "has made the Dean's List.\n",
      "\n",
      "Enter student last name:Paul\n",
      "Enter student first name:Chris\n",
      "Enter student gpa:3.25\n",
      "has made the Honor Role\n",
      "\n",
      "Enter student last name:ZZZ\n"
     ]
    }
   ],
   "source": [
    "# Abdirazaq Mohamed\n",
    "# Notebook (.pyynb) file \n",
    "# I am to write a python program that will collect student names and GPAs and use the information to determine \n",
    "# if the student is eligible for the Dean's List or the Honor Roll.\n",
    "\n",
    "\n",
    "lastname = input(\"Enter student last name:\")\n",
    "while lastname != \"ZZZ\":\n",
    "    firstname = input(\"Enter student first name:\")\n",
    "    gpa = float(input(\"Enter student gpa:\"))\n",
    "    if gpa >= 3.5:\n",
    "        print (\"has made the Dean's List.\")\n",
    "    else:\n",
    "        if gpa >= 3.25:\n",
    "            print(\"has made the Honor Role\")\n",
    "    lastname = input(\"\\nEnter student last name:\")"
   ]
  }
 ],
 "metadata": {
  "kernelspec": {
   "display_name": "Python 3 (ipykernel)",
   "language": "python",
   "name": "python3"
  },
  "language_info": {
   "codemirror_mode": {
    "name": "ipython",
    "version": 3
   },
   "file_extension": ".py",
   "mimetype": "text/x-python",
   "name": "python",
   "nbconvert_exporter": "python",
   "pygments_lexer": "ipython3",
   "version": "3.9.12"
  }
 },
 "nbformat": 4,
 "nbformat_minor": 5
}
